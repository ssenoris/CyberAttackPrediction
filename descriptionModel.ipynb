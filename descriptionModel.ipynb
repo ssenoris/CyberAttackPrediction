{
 "cells": [
  {
   "cell_type": "code",
   "execution_count": 2,
   "metadata": {},
   "outputs": [],
   "source": [
    "from trip_lib_v3 import *"
   ]
  },
  {
   "cell_type": "code",
   "execution_count": null,
   "metadata": {},
   "outputs": [],
   "source": [
    "def leaning_curve(X,x,c=4):\n",
    "    \n",
    "    y = X['ataque']\n",
    "    X = X[x]\n",
    "    numerical = X.select_dtypes(exclude=[\"category\",'object']).columns\n",
    "    categorical = X.select_dtypes(include=[\"object\"]).columns\n",
    "    t = [('cat', OneHotEncoder(), categorical), ('num', StandardScaler(), numerical)]\n",
    "    transformer = ColumnTransformer(transformers=t)\n",
    "    X_train_transformed = transformer.fit_transform(X)\n",
    "    \n",
    "#     rf = RandomForestClassifier(n_estimators=100, min_samples_split = 10, min_samples_leaf = 2, max_features = 'auto', bootstrap = False,max_depth=c, random_state=0)\n",
    "    rf = RandomForestClassifier(n_estimators=95, min_samples_split = 20, min_samples_leaf = 4, max_features = 'auto', bootstrap = True,max_depth=None, random_state=0)\n",
    "    sizes = np.linspace(0.1, 1.0, 100)\n",
    "    visualizer = LearningCurve(\n",
    "    rf, cv=3, scoring='accuracy', train_sizes=sizes, n_jobs=4)\n",
    "\n",
    "    visualizer.fit(X_train_transformed, y)        # Fit the data to the visualizer\n",
    "    visualizer.show()  "
   ]
  },
  {
   "cell_type": "code",
   "execution_count": null,
   "metadata": {},
   "outputs": [],
   "source": [
    "def leaning_curve_OP(X,x,c=4):\n",
    "    \n",
    "    y = X['ataque']\n",
    "    X = X[x]\n",
    "   \n",
    "    loaded_transform = pickle.load(open('x_transform_OP.sav', 'rb'))\n",
    "    X_TRANS = loaded_transform.transform(X)\n",
    "    loaded_model = pickle.load(open('rf_op_model_OP.sav', 'rb'))\n",
    "#     numerical = X.select_dtypes(exclude=[\"category\",'object']).columns\n",
    "#     categorical = X.select_dtypes(include=[\"object\"]).columns\n",
    "#     t = [('cat', OneHotEncoder(), categorical), ('num', StandardScaler(), numerical)]\n",
    "#     transformer = ColumnTransformer(transformers=t)\n",
    "#     X_train_transformed = transformer.fit_transform(X)\n",
    "    \n",
    "#     rf = RandomForestClassifier(n_estimators=100, min_samples_split = 10, min_samples_leaf = 2, max_features = 'auto', bootstrap = False,max_depth=c, random_state=0)\n",
    "#     rf = RandomForestClassifier(n_estimators=95, min_samples_split = 20, min_samples_leaf = 4, max_features = 'auto', bootstrap = True,max_depth=None, random_state=0)\n",
    "    sizes = np.linspace(0.1, 1.0, 100)\n",
    "    visualizer = LearningCurve(loaded_model , cv=3, scoring='accuracy', train_sizes=sizes, n_jobs=4)\n",
    "\n",
    "    visualizer.fit(X_TRANS, y)        # Fit the data to the visualizer\n",
    "    visualizer.show() "
   ]
  },
  {
   "cell_type": "markdown",
   "metadata": {},
   "source": [
    "### Predicción de si el tráfico de red pertenece a un ataque cibernético"
   ]
  },
  {
   "cell_type": "markdown",
   "metadata": {},
   "source": [
    "Se han analizado diferentes tipos de ataques cibernéticos junto con tráfico normal y se han etiquetado estos datos para apicar un modelo de Machine Learning que aprenda a detectar tráfico malicioso.\n",
    "\n",
    "Las características más destacables que se han detectado son la frecuencia del envío de paquetes y el tamaño que tienen, aunque existen otras características propias de algunos ataques como es el escaneo de puertos o las repetidas llamadas a puertos de control en remoto, por ejemplo. Por estos motivos los datos en crudo se han tratado para calcular y enfatizar estas catacterísticas que puedan hacer que el algoritmo aprenda mejor."
   ]
  },
  {
   "cell_type": "code",
   "execution_count": 4,
   "metadata": {},
   "outputs": [],
   "source": [
    "from sklearn.model_selection import RandomizedSearchCV\n",
    "from scipy.stats import uniform\n",
    "from sklearn.metrics import fbeta_score, make_scorer\n",
    "from sklearn.metrics import mean_squared_error"
   ]
  },
  {
   "cell_type": "code",
   "execution_count": 5,
   "metadata": {},
   "outputs": [],
   "source": [
    "from sklearn.model_selection import RandomizedSearchCV\n",
    "from scipy.stats import uniform\n",
    "from sklearn.metrics import fbeta_score, make_scorer\n",
    "from sklearn.metrics import mean_squared_error\n",
    "from sklearn.metrics import precision_score"
   ]
  },
  {
   "cell_type": "code",
   "execution_count": 6,
   "metadata": {},
   "outputs": [],
   "source": [
    "from sklearn.metrics import recall_score\n",
    "from sklearn.metrics import f1_score"
   ]
  },
  {
   "cell_type": "code",
   "execution_count": 7,
   "metadata": {},
   "outputs": [
    {
     "name": "stderr",
     "output_type": "stream",
     "text": [
      "C:\\Users\\34653\\Anaconda3\\lib\\site-packages\\sklearn\\utils\\deprecation.py:143: FutureWarning: The sklearn.metrics.classification module is  deprecated in version 0.22 and will be removed in version 0.24. The corresponding classes / functions should instead be imported from sklearn.metrics. Anything that cannot be imported from sklearn.metrics is now part of the private API.\n",
      "  warnings.warn(message, FutureWarning)\n"
     ]
    }
   ],
   "source": [
    "from yellowbrick.model_selection import LearningCurve"
   ]
  },
  {
   "cell_type": "code",
   "execution_count": 8,
   "metadata": {},
   "outputs": [],
   "source": [
    "import matplotlib.pyplot as plt"
   ]
  },
  {
   "cell_type": "markdown",
   "metadata": {},
   "source": [
    "### Listas de datos: ataques cibernéticos y tráfico no malicioso"
   ]
  },
  {
   "cell_type": "code",
   "execution_count": 3,
   "metadata": {},
   "outputs": [],
   "source": [
    "trafico_normal = ['traficoperiodicos.csv','traficoweb.csv','trafico_mail2.csv','traficonormal2.csv','navegacion_normal.csv',\n",
    "'prueba_trafico_normal_metasplotaible2.csv',\n",
    "'trafico normal kali linux_meta y vm.csv',\n",
    "'trafico normal y envio mail.csv',\n",
    "'trafico_normal_conpin.csv',\n",
    "'TRAFICO_NORMAL_DE_RED.csv',\n",
    "'whireshark_navegacion_normal.csv']\n",
    "trafico_ataques = ['Escaneo_Niktoataque.csv','Escaneo_Openvasataque.csv','Ataque Web Owasp Mutillidae  puerto 80.csv',\n",
    "'meterpreter y ejecucion de comandos y shell linuxsuggester.csv','nmap owasp.csv',\n",
    "'nmap_de_kali_a_meta.csv',\n",
    "'nmap_de_kali_a_meta2.csv',\n",
    "'nmap_de_meta_a_kali.csv',\n",
    "'nmap_sV_metaisploitablev2.csv',\n",
    "'Servidor_web_linux_con_contrasena_crackeada_TRAFICO_DE_RED.csv',\n",
    "'Servidor_web_linux_sin_contrasena_TRAFICO_DE_RED.csv',\n",
    "'Windows_con_contrasena_TRAFICO_DE _RED.csv',\n",
    "'Windows_sin_contrasena_TRAFICO_DE_RED.csv']"
   ]
  },
  {
   "cell_type": "code",
   "execution_count": 4,
   "metadata": {},
   "outputs": [
    {
     "data": {
      "text/plain": [
       "'C:\\\\Users\\\\34653\\\\Documents\\\\DataScience2_ap2020\\\\DataSciencieApril_casaWork\\\\Tripulaciones'"
      ]
     },
     "execution_count": 4,
     "metadata": {},
     "output_type": "execute_result"
    }
   ],
   "source": [
    "import os\n",
    "os.path.abspath(os.getcwd())"
   ]
  },
  {
   "cell_type": "markdown",
   "metadata": {},
   "source": [
    "Inicialmente el dataset contiene las siguientes columnas:\n",
    "* Time: tiempo, lo marca la herramienta que captura el tráfico y se mide en segundos. La diferencia en tiempos entre los paquetes indica la frecuencia a la que se producen los envíos.\t\n",
    "* Source: es la IP origen.\n",
    "* Destination: es la IP destino.\n",
    "* Protocol: protocolo de transmisión de información.\n",
    "* Length: numero de caracteres del paquete.\n",
    "* Info: contiene información de los puertos origen y destino y del tipo de petición que se hace, entre otros."
   ]
  },
  {
   "cell_type": "code",
   "execution_count": 5,
   "metadata": {
    "scrolled": true
   },
   "outputs": [
    {
     "data": {
      "text/html": [
       "<div>\n",
       "<style scoped>\n",
       "    .dataframe tbody tr th:only-of-type {\n",
       "        vertical-align: middle;\n",
       "    }\n",
       "\n",
       "    .dataframe tbody tr th {\n",
       "        vertical-align: top;\n",
       "    }\n",
       "\n",
       "    .dataframe thead th {\n",
       "        text-align: right;\n",
       "    }\n",
       "</style>\n",
       "<table border=\"1\" class=\"dataframe\">\n",
       "  <thead>\n",
       "    <tr style=\"text-align: right;\">\n",
       "      <th></th>\n",
       "      <th>No.</th>\n",
       "      <th>Time</th>\n",
       "      <th>Source</th>\n",
       "      <th>Destination</th>\n",
       "      <th>Protocol</th>\n",
       "      <th>Length</th>\n",
       "      <th>Info</th>\n",
       "      <th>Unnamed: 7</th>\n",
       "      <th>Unnamed: 8</th>\n",
       "      <th>Unnamed: 9</th>\n",
       "    </tr>\n",
       "  </thead>\n",
       "  <tbody>\n",
       "    <tr>\n",
       "      <th>0</th>\n",
       "      <td>1</td>\n",
       "      <td>0.000000000</td>\n",
       "      <td>10.0.2.4</td>\n",
       "      <td>13.33.235.94</td>\n",
       "      <td>TCP</td>\n",
       "      <td>54</td>\n",
       "      <td>45078  &gt;  443 [ACK] Seq=1 Ack=1 Win=62780 Len=0</td>\n",
       "      <td>NaN</td>\n",
       "      <td>NaN</td>\n",
       "      <td>NaN</td>\n",
       "    </tr>\n",
       "    <tr>\n",
       "      <th>1</th>\n",
       "      <td>2</td>\n",
       "      <td>0.000489060</td>\n",
       "      <td>13.33.235.94</td>\n",
       "      <td>10.0.2.4</td>\n",
       "      <td>TCP</td>\n",
       "      <td>60</td>\n",
       "      <td>[TCP ACKed unseen segment] 443  &gt;  45078 [ACK]...</td>\n",
       "      <td>NaN</td>\n",
       "      <td>NaN</td>\n",
       "      <td>NaN</td>\n",
       "    </tr>\n",
       "    <tr>\n",
       "      <th>2</th>\n",
       "      <td>3</td>\n",
       "      <td>0.245751753</td>\n",
       "      <td>10.0.2.4</td>\n",
       "      <td>212.145.41.58</td>\n",
       "      <td>TLSv1.2</td>\n",
       "      <td>78</td>\n",
       "      <td>Application Data</td>\n",
       "      <td>NaN</td>\n",
       "      <td>NaN</td>\n",
       "      <td>NaN</td>\n",
       "    </tr>\n",
       "    <tr>\n",
       "      <th>3</th>\n",
       "      <td>4</td>\n",
       "      <td>0.245814553</td>\n",
       "      <td>10.0.2.4</td>\n",
       "      <td>212.145.41.58</td>\n",
       "      <td>TCP</td>\n",
       "      <td>54</td>\n",
       "      <td>40314  &gt;  443 [FIN, ACK] Seq=25 Ack=1 Win=6278...</td>\n",
       "      <td>NaN</td>\n",
       "      <td>NaN</td>\n",
       "      <td>NaN</td>\n",
       "    </tr>\n",
       "    <tr>\n",
       "      <th>4</th>\n",
       "      <td>5</td>\n",
       "      <td>0.246512523</td>\n",
       "      <td>212.145.41.58</td>\n",
       "      <td>10.0.2.4</td>\n",
       "      <td>TCP</td>\n",
       "      <td>60</td>\n",
       "      <td>443  &gt;  40314 [ACK] Seq=1 Ack=26 Win=32743 Len=0</td>\n",
       "      <td>NaN</td>\n",
       "      <td>NaN</td>\n",
       "      <td>NaN</td>\n",
       "    </tr>\n",
       "  </tbody>\n",
       "</table>\n",
       "</div>"
      ],
      "text/plain": [
       "   No.         Time         Source    Destination Protocol  Length  \\\n",
       "0    1  0.000000000       10.0.2.4   13.33.235.94      TCP      54   \n",
       "1    2  0.000489060   13.33.235.94       10.0.2.4      TCP      60   \n",
       "2    3  0.245751753       10.0.2.4  212.145.41.58  TLSv1.2      78   \n",
       "3    4  0.245814553       10.0.2.4  212.145.41.58      TCP      54   \n",
       "4    5  0.246512523  212.145.41.58       10.0.2.4      TCP      60   \n",
       "\n",
       "                                                Info Unnamed: 7 Unnamed: 8  \\\n",
       "0    45078  >  443 [ACK] Seq=1 Ack=1 Win=62780 Len=0        NaN        NaN   \n",
       "1  [TCP ACKed unseen segment] 443  >  45078 [ACK]...        NaN        NaN   \n",
       "2                                   Application Data        NaN        NaN   \n",
       "3  40314  >  443 [FIN, ACK] Seq=25 Ack=1 Win=6278...        NaN        NaN   \n",
       "4   443  >  40314 [ACK] Seq=1 Ack=26 Win=32743 Len=0        NaN        NaN   \n",
       "\n",
       "  Unnamed: 9  \n",
       "0        NaN  \n",
       "1        NaN  \n",
       "2        NaN  \n",
       "3        NaN  \n",
       "4        NaN  "
      ]
     },
     "execution_count": 5,
     "metadata": {},
     "output_type": "execute_result"
    }
   ],
   "source": [
    "df = open_file(trafico_ataques[0])\n",
    "df.head()"
   ]
  },
  {
   "cell_type": "markdown",
   "metadata": {},
   "source": [
    "Se realizaron distintos cálculos en el dataset como el número de paquetes por segundo y las diferentes variables estadísticas de esta columna (máximo, mínimo, media y desviación típica), así como las mismas variables estadísticas para el tamaño de paquete."
   ]
  },
  {
   "cell_type": "markdown",
   "metadata": {},
   "source": [
    "Los datos han sido tratados de la siguiente manera:\n",
    "\n",
    "El cálculo del número de paquetes por segundo enviados se hizo de manera que en cada instante de tiempo en el que la herramienta nos proporciona datos, tenemos el cálculo de los paquetes/s del último segundo. De la columna info se ha extraído el dato de puerto destino y se ha puesto en una columna aparte. También se ha etiquetado si existe o no escaner de puertos (desde una misma IP realizar peticiones a muchos puertos distintos puede ser una estrategia previa a un ataque) y también se ha etiquetado la presencia de puertos 21 y 22 por ser puertos que solicitan control de máquinas en local y en remoto, respectivamente.\n",
    "\n",
    "Los datos han sido debidamente transformados a código binario, aplicando distintas transformaciones en función de la naturaleza del mismo (numérico o categórico). Para el modelo de ML se ha empleado un RanomForestClassifier. El modelo hace una predicción de si el tráfico es o no es un ataque en base a un etiquetado previo (Supervised Learning). Los hiperparámetros del modelo han sido optimizados con un RandomizedSearchCV. El modelo se ha validado con un cross_validation y con LearningCurve.\n"
   ]
  },
  {
   "cell_type": "code",
   "execution_count": 11,
   "metadata": {},
   "outputs": [],
   "source": [
    "loaded_c = pickle.load(open('data_complete.sav', 'rb'))\n",
    "com = pd.DataFrame(loaded_c)"
   ]
  },
  {
   "cell_type": "code",
   "execution_count": 9,
   "metadata": {
    "scrolled": true
   },
   "outputs": [
    {
     "data": {
      "text/html": [
       "<div>\n",
       "<style scoped>\n",
       "    .dataframe tbody tr th:only-of-type {\n",
       "        vertical-align: middle;\n",
       "    }\n",
       "\n",
       "    .dataframe tbody tr th {\n",
       "        vertical-align: top;\n",
       "    }\n",
       "\n",
       "    .dataframe thead th {\n",
       "        text-align: right;\n",
       "    }\n",
       "</style>\n",
       "<table border=\"1\" class=\"dataframe\">\n",
       "  <thead>\n",
       "    <tr style=\"text-align: right;\">\n",
       "      <th></th>\n",
       "      <th>escaner</th>\n",
       "      <th>len_mean</th>\n",
       "      <th>len_std</th>\n",
       "      <th>len_min</th>\n",
       "      <th>len_max</th>\n",
       "      <th>puerto_destino</th>\n",
       "      <th>Protocol</th>\n",
       "      <th>Source</th>\n",
       "      <th>Destination</th>\n",
       "      <th>n_paq_mean</th>\n",
       "      <th>n_paq_std</th>\n",
       "      <th>n_paq_min</th>\n",
       "      <th>n_paq_max</th>\n",
       "      <th>n_paquetes</th>\n",
       "      <th>Length</th>\n",
       "      <th>puerto_caliente</th>\n",
       "      <th>ataque</th>\n",
       "      <th>source</th>\n",
       "      <th>destination</th>\n",
       "    </tr>\n",
       "  </thead>\n",
       "  <tbody>\n",
       "    <tr>\n",
       "      <th>797005</th>\n",
       "      <td>1</td>\n",
       "      <td>1548.404421</td>\n",
       "      <td>3858.851526</td>\n",
       "      <td>42.0</td>\n",
       "      <td>46774.0</td>\n",
       "      <td>0</td>\n",
       "      <td>TLSv1.3</td>\n",
       "      <td>172.217.17.1</td>\n",
       "      <td>10.0.2.10</td>\n",
       "      <td>282.779620</td>\n",
       "      <td>319.940321</td>\n",
       "      <td>1.0</td>\n",
       "      <td>1951.0</td>\n",
       "      <td>236</td>\n",
       "      <td>16114</td>\n",
       "      <td>0</td>\n",
       "      <td>0</td>\n",
       "      <td>172.217.17.1</td>\n",
       "      <td>10.0.2.10</td>\n",
       "    </tr>\n",
       "    <tr>\n",
       "      <th>118120</th>\n",
       "      <td>1</td>\n",
       "      <td>408.100115</td>\n",
       "      <td>920.331136</td>\n",
       "      <td>42.0</td>\n",
       "      <td>34818.0</td>\n",
       "      <td>80</td>\n",
       "      <td>TCP</td>\n",
       "      <td>10.0.2.4</td>\n",
       "      <td>10.0.2.7</td>\n",
       "      <td>60186.216160</td>\n",
       "      <td>46875.394240</td>\n",
       "      <td>1.0</td>\n",
       "      <td>145467.0</td>\n",
       "      <td>45522</td>\n",
       "      <td>66</td>\n",
       "      <td>0</td>\n",
       "      <td>1</td>\n",
       "      <td>10.0.2.4</td>\n",
       "      <td>10.0.2.7</td>\n",
       "    </tr>\n",
       "    <tr>\n",
       "      <th>610044</th>\n",
       "      <td>1</td>\n",
       "      <td>288.014661</td>\n",
       "      <td>434.654449</td>\n",
       "      <td>42.0</td>\n",
       "      <td>1514.0</td>\n",
       "      <td>49450</td>\n",
       "      <td>TCP</td>\n",
       "      <td>10.0.2.6</td>\n",
       "      <td>10.0.2.10</td>\n",
       "      <td>2534.847727</td>\n",
       "      <td>1756.938579</td>\n",
       "      <td>1.0</td>\n",
       "      <td>6616.0</td>\n",
       "      <td>1270</td>\n",
       "      <td>74</td>\n",
       "      <td>0</td>\n",
       "      <td>1</td>\n",
       "      <td>10.0.2.6</td>\n",
       "      <td>10.0.2.10</td>\n",
       "    </tr>\n",
       "    <tr>\n",
       "      <th>182141</th>\n",
       "      <td>1</td>\n",
       "      <td>408.100115</td>\n",
       "      <td>920.331136</td>\n",
       "      <td>42.0</td>\n",
       "      <td>34818.0</td>\n",
       "      <td>0</td>\n",
       "      <td>HTTP</td>\n",
       "      <td>10.0.2.4</td>\n",
       "      <td>10.0.2.7</td>\n",
       "      <td>60186.216160</td>\n",
       "      <td>46875.394240</td>\n",
       "      <td>1.0</td>\n",
       "      <td>145467.0</td>\n",
       "      <td>109543</td>\n",
       "      <td>417</td>\n",
       "      <td>0</td>\n",
       "      <td>1</td>\n",
       "      <td>10.0.2.4</td>\n",
       "      <td>10.0.2.7</td>\n",
       "    </tr>\n",
       "    <tr>\n",
       "      <th>513004</th>\n",
       "      <td>1</td>\n",
       "      <td>288.014661</td>\n",
       "      <td>434.654449</td>\n",
       "      <td>42.0</td>\n",
       "      <td>1514.0</td>\n",
       "      <td>443</td>\n",
       "      <td>TCP</td>\n",
       "      <td>10.0.2.10</td>\n",
       "      <td>10.0.2.6</td>\n",
       "      <td>2534.847727</td>\n",
       "      <td>1756.938579</td>\n",
       "      <td>1.0</td>\n",
       "      <td>6616.0</td>\n",
       "      <td>1491</td>\n",
       "      <td>66</td>\n",
       "      <td>0</td>\n",
       "      <td>1</td>\n",
       "      <td>10.0.2.10</td>\n",
       "      <td>10.0.2.6</td>\n",
       "    </tr>\n",
       "  </tbody>\n",
       "</table>\n",
       "</div>"
      ],
      "text/plain": [
       "       escaner     len_mean      len_std  len_min  len_max  puerto_destino  \\\n",
       "797005       1  1548.404421  3858.851526     42.0  46774.0               0   \n",
       "118120       1   408.100115   920.331136     42.0  34818.0              80   \n",
       "610044       1   288.014661   434.654449     42.0   1514.0           49450   \n",
       "182141       1   408.100115   920.331136     42.0  34818.0               0   \n",
       "513004       1   288.014661   434.654449     42.0   1514.0             443   \n",
       "\n",
       "       Protocol        Source Destination    n_paq_mean     n_paq_std  \\\n",
       "797005  TLSv1.3  172.217.17.1   10.0.2.10    282.779620    319.940321   \n",
       "118120      TCP      10.0.2.4    10.0.2.7  60186.216160  46875.394240   \n",
       "610044      TCP      10.0.2.6   10.0.2.10   2534.847727   1756.938579   \n",
       "182141     HTTP      10.0.2.4    10.0.2.7  60186.216160  46875.394240   \n",
       "513004      TCP     10.0.2.10    10.0.2.6   2534.847727   1756.938579   \n",
       "\n",
       "        n_paq_min  n_paq_max  n_paquetes  Length puerto_caliente  ataque  \\\n",
       "797005        1.0     1951.0         236   16114               0       0   \n",
       "118120        1.0   145467.0       45522      66               0       1   \n",
       "610044        1.0     6616.0        1270      74               0       1   \n",
       "182141        1.0   145467.0      109543     417               0       1   \n",
       "513004        1.0     6616.0        1491      66               0       1   \n",
       "\n",
       "              source destination  \n",
       "797005  172.217.17.1   10.0.2.10  \n",
       "118120      10.0.2.4    10.0.2.7  \n",
       "610044      10.0.2.6   10.0.2.10  \n",
       "182141      10.0.2.4    10.0.2.7  \n",
       "513004     10.0.2.10    10.0.2.6  "
      ]
     },
     "execution_count": 9,
     "metadata": {},
     "output_type": "execute_result"
    }
   ],
   "source": [
    "com.head()"
   ]
  },
  {
   "cell_type": "markdown",
   "metadata": {},
   "source": [
    "### Prediccion es la función que hace lamada al modelo y hace la predicción de si el tráfico es o no flujo malicioso"
   ]
  },
  {
   "cell_type": "code",
   "execution_count": 10,
   "metadata": {},
   "outputs": [
    {
     "name": "stdout",
     "output_type": "stream",
     "text": [
      "<class 'pandas.core.frame.DataFrame'>\n",
      "Index(['No.', 'Time', 'Source', 'Destination', 'Protocol', 'Length', 'Info',\n",
      "       'Unnamed: 7', 'Unnamed: 8', 'Unnamed: 9', 'len_mean', 'len_std',\n",
      "       'len_min', 'len_max', 'tiempo_dec(s)', 't_uni', 'n_paquetes',\n",
      "       'n_paq_mean', 'n_paq_std', 'n_paq_min', 'n_paq_max', 'puerto_caliente',\n",
      "       'puerto_destino', 'escaner'],\n",
      "      dtype='object')\n"
     ]
    },
    {
     "name": "stderr",
     "output_type": "stream",
     "text": [
      "C:\\Users\\34653\\Anaconda3\\lib\\site-packages\\sklearn\\compose\\_column_transformer.py:440: FutureWarning: Given feature/column names or counts do not match the ones for the data given during fit. This will fail from v0.24.\n",
      "  FutureWarning)\n"
     ]
    },
    {
     "name": "stdout",
     "output_type": "stream",
     "text": [
      "\u001b[31mATAQUE\u001b[0m\n",
      "Escaneo_Niktoataque.csv  Maximo número de paquetes: 773\n"
     ]
    },
    {
     "data": {
      "image/png": "[encoded data removed]",
      "text/plain": [
       "<Figure size 576x432 with 1 Axes>"
      ]
     },
     "metadata": {},
     "output_type": "display_data"
    },
    {
     "name": "stdout",
     "output_type": "stream",
     "text": [
      "<class 'pandas.core.frame.DataFrame'>\n"
     ]
    },
    {
     "data": {
      "image/png": "[encoded data removed]",
      "text/plain": [
       "<Figure size 432x288 with 1 Axes>"
      ]
     },
     "metadata": {},
     "output_type": "display_data"
    },
    {
     "data": {
      "text/plain": [
       "(<Figure size 576x432 with 1 Axes>, None)"
      ]
     },
     "execution_count": 10,
     "metadata": {},
     "output_type": "execute_result"
    }
   ],
   "source": [
    "prediccion(trafico_ataques[0])"
   ]
  },
  {
   "cell_type": "code",
   "execution_count": 1,
   "metadata": {},
   "outputs": [],
   "source": [
    "from trip_lib_v3 import *"
   ]
  },
  {
   "cell_type": "code",
   "execution_count": 8,
   "metadata": {},
   "outputs": [],
   "source": [
    "loaded_c = pickle.load(open('data_complete.sav', 'rb'))\n",
    "com = pd.DataFrame(loaded_c)"
   ]
  },
  {
   "cell_type": "code",
   "execution_count": 3,
   "metadata": {},
   "outputs": [
    {
     "data": {
      "text/html": [
       "<div>\n",
       "<style scoped>\n",
       "    .dataframe tbody tr th:only-of-type {\n",
       "        vertical-align: middle;\n",
       "    }\n",
       "\n",
       "    .dataframe tbody tr th {\n",
       "        vertical-align: top;\n",
       "    }\n",
       "\n",
       "    .dataframe thead th {\n",
       "        text-align: right;\n",
       "    }\n",
       "</style>\n",
       "<table border=\"1\" class=\"dataframe\">\n",
       "  <thead>\n",
       "    <tr style=\"text-align: right;\">\n",
       "      <th></th>\n",
       "      <th>escaner</th>\n",
       "      <th>len_mean</th>\n",
       "      <th>len_std</th>\n",
       "      <th>len_min</th>\n",
       "      <th>len_max</th>\n",
       "      <th>puerto_destino</th>\n",
       "      <th>Protocol</th>\n",
       "      <th>Source</th>\n",
       "      <th>Destination</th>\n",
       "      <th>n_paq_mean</th>\n",
       "      <th>n_paq_std</th>\n",
       "      <th>n_paq_min</th>\n",
       "      <th>n_paq_max</th>\n",
       "      <th>n_paquetes</th>\n",
       "      <th>Length</th>\n",
       "      <th>puerto_caliente</th>\n",
       "      <th>ataque</th>\n",
       "      <th>source</th>\n",
       "      <th>destination</th>\n",
       "    </tr>\n",
       "  </thead>\n",
       "  <tbody>\n",
       "    <tr>\n",
       "      <th>797005</th>\n",
       "      <td>1</td>\n",
       "      <td>1548.404421</td>\n",
       "      <td>3858.851526</td>\n",
       "      <td>42.0</td>\n",
       "      <td>46774.0</td>\n",
       "      <td>0</td>\n",
       "      <td>TLSv1.3</td>\n",
       "      <td>172.217.17.1</td>\n",
       "      <td>10.0.2.10</td>\n",
       "      <td>282.779620</td>\n",
       "      <td>319.940321</td>\n",
       "      <td>1.0</td>\n",
       "      <td>1951.0</td>\n",
       "      <td>236</td>\n",
       "      <td>16114</td>\n",
       "      <td>0</td>\n",
       "      <td>0</td>\n",
       "      <td>172.217.17.1</td>\n",
       "      <td>10.0.2.10</td>\n",
       "    </tr>\n",
       "    <tr>\n",
       "      <th>118120</th>\n",
       "      <td>1</td>\n",
       "      <td>408.100115</td>\n",
       "      <td>920.331136</td>\n",
       "      <td>42.0</td>\n",
       "      <td>34818.0</td>\n",
       "      <td>80</td>\n",
       "      <td>TCP</td>\n",
       "      <td>10.0.2.4</td>\n",
       "      <td>10.0.2.7</td>\n",
       "      <td>60186.216160</td>\n",
       "      <td>46875.394240</td>\n",
       "      <td>1.0</td>\n",
       "      <td>145467.0</td>\n",
       "      <td>45522</td>\n",
       "      <td>66</td>\n",
       "      <td>0</td>\n",
       "      <td>1</td>\n",
       "      <td>10.0.2.4</td>\n",
       "      <td>10.0.2.7</td>\n",
       "    </tr>\n",
       "    <tr>\n",
       "      <th>610044</th>\n",
       "      <td>1</td>\n",
       "      <td>288.014661</td>\n",
       "      <td>434.654449</td>\n",
       "      <td>42.0</td>\n",
       "      <td>1514.0</td>\n",
       "      <td>49450</td>\n",
       "      <td>TCP</td>\n",
       "      <td>10.0.2.6</td>\n",
       "      <td>10.0.2.10</td>\n",
       "      <td>2534.847727</td>\n",
       "      <td>1756.938579</td>\n",
       "      <td>1.0</td>\n",
       "      <td>6616.0</td>\n",
       "      <td>1270</td>\n",
       "      <td>74</td>\n",
       "      <td>0</td>\n",
       "      <td>1</td>\n",
       "      <td>10.0.2.6</td>\n",
       "      <td>10.0.2.10</td>\n",
       "    </tr>\n",
       "    <tr>\n",
       "      <th>182141</th>\n",
       "      <td>1</td>\n",
       "      <td>408.100115</td>\n",
       "      <td>920.331136</td>\n",
       "      <td>42.0</td>\n",
       "      <td>34818.0</td>\n",
       "      <td>0</td>\n",
       "      <td>HTTP</td>\n",
       "      <td>10.0.2.4</td>\n",
       "      <td>10.0.2.7</td>\n",
       "      <td>60186.216160</td>\n",
       "      <td>46875.394240</td>\n",
       "      <td>1.0</td>\n",
       "      <td>145467.0</td>\n",
       "      <td>109543</td>\n",
       "      <td>417</td>\n",
       "      <td>0</td>\n",
       "      <td>1</td>\n",
       "      <td>10.0.2.4</td>\n",
       "      <td>10.0.2.7</td>\n",
       "    </tr>\n",
       "    <tr>\n",
       "      <th>513004</th>\n",
       "      <td>1</td>\n",
       "      <td>288.014661</td>\n",
       "      <td>434.654449</td>\n",
       "      <td>42.0</td>\n",
       "      <td>1514.0</td>\n",
       "      <td>443</td>\n",
       "      <td>TCP</td>\n",
       "      <td>10.0.2.10</td>\n",
       "      <td>10.0.2.6</td>\n",
       "      <td>2534.847727</td>\n",
       "      <td>1756.938579</td>\n",
       "      <td>1.0</td>\n",
       "      <td>6616.0</td>\n",
       "      <td>1491</td>\n",
       "      <td>66</td>\n",
       "      <td>0</td>\n",
       "      <td>1</td>\n",
       "      <td>10.0.2.10</td>\n",
       "      <td>10.0.2.6</td>\n",
       "    </tr>\n",
       "  </tbody>\n",
       "</table>\n",
       "</div>"
      ],
      "text/plain": [
       "       escaner     len_mean      len_std  len_min  len_max  puerto_destino  \\\n",
       "797005       1  1548.404421  3858.851526     42.0  46774.0               0   \n",
       "118120       1   408.100115   920.331136     42.0  34818.0              80   \n",
       "610044       1   288.014661   434.654449     42.0   1514.0           49450   \n",
       "182141       1   408.100115   920.331136     42.0  34818.0               0   \n",
       "513004       1   288.014661   434.654449     42.0   1514.0             443   \n",
       "\n",
       "       Protocol        Source Destination    n_paq_mean     n_paq_std  \\\n",
       "797005  TLSv1.3  172.217.17.1   10.0.2.10    282.779620    319.940321   \n",
       "118120      TCP      10.0.2.4    10.0.2.7  60186.216160  46875.394240   \n",
       "610044      TCP      10.0.2.6   10.0.2.10   2534.847727   1756.938579   \n",
       "182141     HTTP      10.0.2.4    10.0.2.7  60186.216160  46875.394240   \n",
       "513004      TCP     10.0.2.10    10.0.2.6   2534.847727   1756.938579   \n",
       "\n",
       "        n_paq_min  n_paq_max  n_paquetes  Length puerto_caliente  ataque  \\\n",
       "797005        1.0     1951.0         236   16114               0       0   \n",
       "118120        1.0   145467.0       45522      66               0       1   \n",
       "610044        1.0     6616.0        1270      74               0       1   \n",
       "182141        1.0   145467.0      109543     417               0       1   \n",
       "513004        1.0     6616.0        1491      66               0       1   \n",
       "\n",
       "              source destination  \n",
       "797005  172.217.17.1   10.0.2.10  \n",
       "118120      10.0.2.4    10.0.2.7  \n",
       "610044      10.0.2.6   10.0.2.10  \n",
       "182141      10.0.2.4    10.0.2.7  \n",
       "513004     10.0.2.10    10.0.2.6  "
      ]
     },
     "execution_count": 3,
     "metadata": {},
     "output_type": "execute_result"
    }
   ],
   "source": [
    "\n",
    "com.head()"
   ]
  },
  {
   "cell_type": "markdown",
   "metadata": {},
   "source": []
  },
  {
   "cell_type": "code",
   "execution_count": 23,
   "metadata": {},
   "outputs": [],
   "source": [
    "X=com\n",
    "x = ['puerto_destino','escaner','n_paquetes','puerto_caliente','Length']"
   ]
  },
  {
   "cell_type": "code",
   "execution_count": 24,
   "metadata": {},
   "outputs": [],
   "source": [
    "X_train, X_test, y_train, y_test = train_test_split(X[x], X['ataque'], test_size=0.3, random_state=42)"
   ]
  },
  {
   "cell_type": "markdown",
   "metadata": {},
   "source": [
    "### Optimizacion de los hiperparámetros con RandomizedSearchCV SIN variables estadisticas acc = 0.9 ###"
   ]
  },
  {
   "cell_type": "code",
   "execution_count": 9,
   "metadata": {},
   "outputs": [],
   "source": [
    "# x = ['len_mean','len_std', 'len_min', 'len_max','puerto_destino','n_paq_mean','n_paq_std','n_paq_min','n_paq_max','n_paquetes','Length','puerto_caliente']\n",
    "x = ['puerto_destino','escaner','n_paquetes','puerto_caliente','Length']\n",
    "X=com\n",
    "X_train, X_test, y_train, y_test = train_test_split(X[x], X['ataque'], test_size=0.3, random_state=42)\n",
    "\n",
    "numerical = X_train.select_dtypes(exclude=[\"category\",'object']).columns\n",
    "categorical = X_train.select_dtypes(include=[\"object\"]).columns\n",
    "t = [('cat', OneHotEncoder(), categorical), ('num', StandardScaler(), numerical)]\n",
    "transformer = ColumnTransformer(transformers=t)\n",
    "X_train_transformed = transformer.fit_transform(X_train)\n",
    "#     print(X_test)\n",
    "X_test_transformed = transformer.transform(X_test)"
   ]
  },
  {
   "cell_type": "code",
   "execution_count": 17,
   "metadata": {},
   "outputs": [],
   "source": [
    "rf = RandomForestClassifier()\n",
    "#     rf.fit(X_train_transformed, y_train)\n",
    "#     fitted_labels = rf.predict(X_test_transformed)\n",
    "#     score = accuracy_score( fitted_labels,y_test)\n",
    "#     print('max_depth = ',i,' score:', score)\n",
    "#     plt.scatter(fitted_labels, y_test)\n",
    "# Number of trees in random forest\n",
    "# n_estimators = [int(x) for x in np.linspace(start = 95, stop = 150, num = 5)]\n",
    "n_estimators =[90,95,100,110]\n",
    "# Number of features to consider at every split\n",
    "max_features = ['auto','sqrt','log2', None]\n",
    "# Maximum number of levels in tree\n",
    "# max_depth = [int(x) for x in np.linspace(2,6, num = 3)]\n",
    "max_depth =[3,4,5,6,7]\n",
    "max_depth.append(None)\n",
    "# Minimum number of samples required to split a node\n",
    "min_samples_split = [5,10,15,20]\n",
    "# Minimum number of samples required at each leaf node\n",
    "min_samples_leaf = [2, 4]\n",
    "# Method of selecting samples for training each tree\n",
    "bootstrap = [True, False]\n",
    "\n",
    "# Create the random grid\n",
    "param_grid = {'n_estimators': n_estimators,\n",
    "               'max_features': max_features,\n",
    "               'max_depth': max_depth,\n",
    "               'min_samples_split': min_samples_split,\n",
    "               'min_samples_leaf': min_samples_leaf,\n",
    "               'bootstrap': bootstrap}\n",
    "\n",
    "rf_search = RandomizedSearchCV(estimator=rf, param_distributions=param_grid, n_iter=100, random_state=42, cv=3, verbose=2, n_jobs=3)\n"
   ]
  },
  {
   "cell_type": "code",
   "execution_count": 18,
   "metadata": {},
   "outputs": [
    {
     "name": "stdout",
     "output_type": "stream",
     "text": [
      "Fitting 3 folds for each of 100 candidates, totalling 300 fits\n"
     ]
    },
    {
     "name": "stderr",
     "output_type": "stream",
     "text": [
      "[Parallel(n_jobs=3)]: Using backend LokyBackend with 3 concurrent workers.\n",
      "[Parallel(n_jobs=3)]: Done  35 tasks      | elapsed: 26.6min\n",
      "[Parallel(n_jobs=3)]: Done 156 tasks      | elapsed: 92.0min\n",
      "[Parallel(n_jobs=3)]: Done 300 out of 300 | elapsed: 154.3min finished\n"
     ]
    },
    {
     "data": {
      "text/plain": [
       "RandomizedSearchCV(cv=3, estimator=RandomForestClassifier(), n_iter=100,\n",
       "                   n_jobs=3,\n",
       "                   param_distributions={'bootstrap': [True, False],\n",
       "                                        'max_depth': [3, 4, 5, 6, 7, None],\n",
       "                                        'max_features': ['auto', 'sqrt', 'log2',\n",
       "                                                         None],\n",
       "                                        'min_samples_leaf': [2, 4],\n",
       "                                        'min_samples_split': [5, 10, 15, 20],\n",
       "                                        'n_estimators': [90, 95, 100, 110]},\n",
       "                   random_state=42, verbose=2)"
      ]
     },
     "execution_count": 18,
     "metadata": {},
     "output_type": "execute_result"
    }
   ],
   "source": [
    "rf_search.fit(X_train_transformed, y_train)"
   ]
  },
  {
   "cell_type": "code",
   "execution_count": null,
   "metadata": {},
   "outputs": [],
   "source": []
  },
  {
   "cell_type": "code",
   "execution_count": 19,
   "metadata": {},
   "outputs": [],
   "source": [
    "rf_search.best_params_\n",
    "best_rf = rf_search.best_estimator_\n",
    "y_pred = rf_search.predict(X_test_transformed)"
   ]
  },
  {
   "cell_type": "code",
   "execution_count": 20,
   "metadata": {},
   "outputs": [
    {
     "data": {
      "text/plain": [
       "{'n_estimators': 95,\n",
       " 'min_samples_split': 20,\n",
       " 'min_samples_leaf': 4,\n",
       " 'max_features': 'auto',\n",
       " 'max_depth': None,\n",
       " 'bootstrap': True}"
      ]
     },
     "execution_count": 20,
     "metadata": {},
     "output_type": "execute_result"
    }
   ],
   "source": [
    "rf_search.best_params_"
   ]
  },
  {
   "cell_type": "code",
   "execution_count": 21,
   "metadata": {},
   "outputs": [
    {
     "data": {
      "text/plain": [
       "RandomForestClassifier(min_samples_leaf=4, min_samples_split=20,\n",
       "                       n_estimators=95)"
      ]
     },
     "execution_count": 21,
     "metadata": {},
     "output_type": "execute_result"
    }
   ],
   "source": [
    "best_rf"
   ]
  },
  {
   "cell_type": "code",
   "execution_count": 22,
   "metadata": {},
   "outputs": [
    {
     "name": "stdout",
     "output_type": "stream",
     "text": [
      "Accuracy of the model is : 0.9024119892915713\n",
      "Recall of the model is : 0.9024119892915713\n",
      "Precision of the model is : 0.9024119892915713\n",
      "F1 score of the model is : 0.8629308288592534\n"
     ]
    }
   ],
   "source": [
    "# y_pred_train = rf_search.predict(X_train_transformed)\n",
    "# accuracy_train = accuracy_score(y_test,y_pred_train)\n",
    "\n",
    "precision = precision_score(y_test,y_pred,average='micro')\n",
    "recall = recall_score(y_test,y_pred,average='micro')\n",
    "accuracy = accuracy_score(y_test,y_pred)\n",
    "f1 = f1_score(y_test,y_pred,average='macro')\n",
    "print(\"Accuracy of the model is :\" ,accuracy)\n",
    "print(\"Recall of the model is :\" ,recall)\n",
    "print(\"Precision of the model is :\" ,precision)\n",
    "print(\"F1 score of the model is :\" ,f1)"
   ]
  },
  {
   "cell_type": "code",
   "execution_count": 38,
   "metadata": {},
   "outputs": [
    {
     "name": "stderr",
     "output_type": "stream",
     "text": [
      "C:\\Users\\34653\\Anaconda3\\lib\\site-packages\\sklearn\\base.py:213: FutureWarning: From version 0.24, get_params will raise an AttributeError if a parameter cannot be retrieved as an instance attribute. Previously it would return None.\n",
      "  FutureWarning)\n"
     ]
    },
    {
     "data": {
      "image/png": "[encoded data removed]",
      "text/plain": [
       "<Figure size 576x396 with 1 Axes>"
      ]
     },
     "metadata": {},
     "output_type": "display_data"
    }
   ],
   "source": [
    "leaning_curve(com,x = ['puerto_destino','escaner','n_paquetes','puerto_caliente','Length'])"
   ]
  },
  {
   "cell_type": "code",
   "execution_count": 16,
   "metadata": {},
   "outputs": [],
   "source": [
    "def modelo_rf_cross_val(X,c = 5):\n",
    "#     print(X.columns)\n",
    "#     print(X['ataque'])\n",
    "#     X_train, X_test, y_train, y_test = train_test_split(X[['Length']], X['ataque'], test_size=0.3, random_state=42)\n",
    "\n",
    "    y = X['ataque']\n",
    "    X = X[['puerto_destino','escaner','n_paquetes','puerto_caliente','Length']]\n",
    "    \n",
    "    numerical = X.select_dtypes(exclude=[\"category\",'object']).columns\n",
    "    categorical = X.select_dtypes(include=[\"object\"]).columns\n",
    "    t = [('cat', OneHotEncoder(), categorical), ('num', StandardScaler(), numerical)]\n",
    "    transformer = ColumnTransformer(transformers=t)\n",
    "    X_trans = transformer.fit_transform(X)\n",
    "    scores_lista = []\n",
    "    \n",
    "    rf = RandomForestClassifier(n_estimators=95, min_samples_split = 20, min_samples_leaf = 4, max_features = 'auto', bootstrap = True,max_depth=None, random_state=0)\n",
    "#         rf.fit(X_trans, y_train)\n",
    "#         fitted_labels = rf.predict(X_test_transformed)\n",
    "    scores = cross_val_score(rf,X_trans, y, cv=c)\n",
    "    return scores"
   ]
  },
  {
   "cell_type": "code",
   "execution_count": 17,
   "metadata": {},
   "outputs": [
    {
     "data": {
      "text/plain": [
       "array([0.90071222, 0.89987554, 0.8995012 , 0.90101802, 0.89982693])"
      ]
     },
     "execution_count": 17,
     "metadata": {},
     "output_type": "execute_result"
    }
   ],
   "source": [
    " modelo_rf_cross_val(com,c = 5)"
   ]
  },
  {
   "cell_type": "code",
   "execution_count": 33,
   "metadata": {},
   "outputs": [],
   "source": [
    "loaded_model = pickle.load(open('rf_op_model_OP.sav', 'rb'))\n",
    "loaded_transform = pickle.load(open('x_transform_OP.sav', 'rb'))\n",
    "x_test_transdormed = loaded_transform.transform(X_test[['puerto_destino','escaner','n_paquetes','puerto_caliente','Length']])\n",
    "\n",
    "y_pred = loaded_model.predict(x_test_transdormed )"
   ]
  },
  {
   "cell_type": "code",
   "execution_count": null,
   "metadata": {},
   "outputs": [],
   "source": []
  },
  {
   "cell_type": "code",
   "execution_count": null,
   "metadata": {},
   "outputs": [],
   "source": []
  },
  {
   "cell_type": "markdown",
   "metadata": {},
   "source": [
    "### PRUEBA CON MAS HIPERPARAMETROS ###"
   ]
  },
  {
   "cell_type": "code",
   "execution_count": 42,
   "metadata": {},
   "outputs": [],
   "source": [
    "rf2 = RandomForestClassifier()\n",
    "#     rf.fit(X_train_transformed, y_train)\n",
    "#     fitted_labels = rf.predict(X_test_transformed)\n",
    "#     score = accuracy_score( fitted_labels,y_test)\n",
    "#     print('max_depth = ',i,' score:', score)\n",
    "#     plt.scatter(fitted_labels, y_test)\n",
    "# Number of trees in random forest\n",
    "# n_estimators = [int(x) for x in np.linspace(start = 95, stop = 150, num = 5)]\n",
    "n_estimators =[90,95,100,110]\n",
    "# Number of features to consider at every split\n",
    "max_features = ['auto','sqrt','log2', None]\n",
    "# Maximum number of levels in tree\n",
    "# max_depth = [int(x) for x in np.linspace(2,6, num = 3)]\n",
    "max_depth =[1,8,14,20,50,100]\n",
    "max_depth.append(None)\n",
    "# Minimum number of samples required to split a node\n",
    "min_samples_split = [20,30,60,100,1000]\n",
    "# Minimum number of samples required at each leaf node\n",
    "min_samples_leaf = [4,8,10,100,1000]\n",
    "# Method of selecting samples for training each tree\n",
    "bootstrap = [True, False]\n",
    "\n",
    "# Create the random grid\n",
    "param_grid = {'n_estimators': n_estimators,\n",
    "               'max_features': max_features,\n",
    "               'max_depth': max_depth,\n",
    "               'min_samples_split': min_samples_split,\n",
    "               'min_samples_leaf': min_samples_leaf,\n",
    "               'bootstrap': bootstrap}\n",
    "\n",
    "rf_search2 = RandomizedSearchCV(estimator=rf, param_distributions=param_grid, n_iter=100, random_state=42, cv=3, verbose=2, n_jobs=3)"
   ]
  },
  {
   "cell_type": "code",
   "execution_count": 43,
   "metadata": {},
   "outputs": [
    {
     "name": "stdout",
     "output_type": "stream",
     "text": [
      "Fitting 3 folds for each of 100 candidates, totalling 300 fits\n"
     ]
    },
    {
     "name": "stderr",
     "output_type": "stream",
     "text": [
      "[Parallel(n_jobs=3)]: Using backend LokyBackend with 3 concurrent workers.\n",
      "[Parallel(n_jobs=3)]: Done  35 tasks      | elapsed: 12.1min\n",
      "[Parallel(n_jobs=3)]: Done 156 tasks      | elapsed: 54.2min\n",
      "[Parallel(n_jobs=3)]: Done 300 out of 300 | elapsed: 100.8min finished\n"
     ]
    },
    {
     "data": {
      "text/plain": [
       "RandomizedSearchCV(cv=3, estimator=RandomForestClassifier(), n_iter=100,\n",
       "                   n_jobs=3,\n",
       "                   param_distributions={'bootstrap': [True, False],\n",
       "                                        'max_depth': [1, 8, 14, 20, 50, 100,\n",
       "                                                      None],\n",
       "                                        'max_features': ['auto', 'sqrt', 'log2',\n",
       "                                                         None],\n",
       "                                        'min_samples_leaf': [4, 8, 10, 100,\n",
       "                                                             1000],\n",
       "                                        'min_samples_split': [20, 30, 60, 100,\n",
       "                                                              1000],\n",
       "                                        'n_estimators': [90, 95, 100, 110]},\n",
       "                   random_state=42, verbose=2)"
      ]
     },
     "execution_count": 43,
     "metadata": {},
     "output_type": "execute_result"
    }
   ],
   "source": [
    "rf_search2.fit(X_train_transformed, y_train)"
   ]
  },
  {
   "cell_type": "code",
   "execution_count": 44,
   "metadata": {},
   "outputs": [],
   "source": [
    "rf_search2.best_params_\n",
    "best_rf = rf_search2.best_estimator_\n",
    "y_pred = rf_search2.predict(X_test_transformed)"
   ]
  },
  {
   "cell_type": "code",
   "execution_count": 45,
   "metadata": {},
   "outputs": [
    {
     "data": {
      "text/plain": [
       "{'n_estimators': 100,\n",
       " 'min_samples_split': 60,\n",
       " 'min_samples_leaf': 4,\n",
       " 'max_features': 'log2',\n",
       " 'max_depth': 20,\n",
       " 'bootstrap': True}"
      ]
     },
     "execution_count": 45,
     "metadata": {},
     "output_type": "execute_result"
    }
   ],
   "source": [
    "rf_search2.best_params_"
   ]
  },
  {
   "cell_type": "code",
   "execution_count": 46,
   "metadata": {},
   "outputs": [
    {
     "name": "stdout",
     "output_type": "stream",
     "text": [
      "Accuracy of the model is : 0.9084338598958975\n",
      "Recall of the model is : 0.9084338598958975\n",
      "Precision of the model is : 0.9084338598958975\n",
      "F1 score of the model is : 0.8705468431753431\n"
     ]
    }
   ],
   "source": [
    "precision = precision_score(y_test,y_pred,average='micro')\n",
    "recall = recall_score(y_test,y_pred,average='micro')\n",
    "accuracy = accuracy_score(y_test,y_pred)\n",
    "f1 = f1_score(y_test,y_pred,average='macro')\n",
    "print(\"Accuracy of the model is :\" ,accuracy)\n",
    "print(\"Recall of the model is :\" ,recall)\n",
    "print(\"Precision of the model is :\" ,precision)\n",
    "print(\"F1 score of the model is :\" ,f1)"
   ]
  },
  {
   "cell_type": "markdown",
   "metadata": {},
   "source": [
    "### Entrenamos y guardamos el modelo: parámetros optimizados ###"
   ]
  },
  {
   "cell_type": "code",
   "execution_count": 26,
   "metadata": {},
   "outputs": [],
   "source": [
    "def modelo_rf_op(X):\n",
    "#     print(X.columns)\n",
    "#     x = GLOBAL_TRAIN_COLUMNS\n",
    "    GLOBAL_TRAIN_COLUMNS =  ['puerto_destino','escaner','n_paquetes','puerto_caliente','Length']\n",
    "    X_train, X_test, y_train, y_test = train_test_split(X[x], X['ataque'], test_size=0.3, random_state=42)\n",
    "    \n",
    "    numerical = X_train.select_dtypes(exclude=[\"category\",'object']).columns\n",
    "    categorical = X_train.select_dtypes(include=[\"object\"]).columns\n",
    "    t = [('cat', OneHotEncoder(), categorical), ('num', StandardScaler(), numerical)]\n",
    "    transformer = ColumnTransformer(transformers=t)\n",
    "    X_train_transformed = transformer.fit_transform(X_train)\n",
    "    \n",
    "    filename_trans = 'x_transform_OP.sav'\n",
    "    \n",
    "    pickle.dump(transformer, open(filename_trans, 'wb'))\n",
    "#     print(X_test)\n",
    "    X_test_transformed = transformer.transform(X_test)\n",
    "    \n",
    "    rf = RandomForestClassifier(n_estimators=95, min_samples_split = 20, min_samples_leaf = 4, max_features = 'auto', bootstrap = True,max_depth=None, random_state=0)\n",
    "    rf.fit(X_train_transformed, y_train)\n",
    "    filename = 'rf_op_model_OP.sav'\n",
    "    pickle.dump(rf, open(filename, 'wb'))\n",
    "    y_pred = rf.predict(X_test_transformed)\n",
    "    precision = precision_score(y_test,y_pred,average='micro')\n",
    "    recall = recall_score(y_test,y_pred,average='micro')\n",
    "    accuracy = accuracy_score(y_test,y_pred)\n",
    "    f1 = f1_score(y_test,y_pred,average='macro')\n",
    "    print(\"Accuracy of the model is :\" ,accuracy)\n",
    "    print(\"Recall of the model is :\" ,recall)\n",
    "    print(\"Precision of the model is :\" ,precision)\n",
    "    print(\"F1 score of the model is :\" ,f1)\n",
    "#     print('max_depth = ',4,' score:', score)"
   ]
  },
  {
   "cell_type": "code",
   "execution_count": 27,
   "metadata": {},
   "outputs": [
    {
     "name": "stdout",
     "output_type": "stream",
     "text": [
      "Accuracy of the model is : 0.9020587148589171\n",
      "Recall of the model is : 0.9020587148589171\n",
      "Precision of the model is : 0.9020587148589171\n",
      "F1 score of the model is : 0.8630174273088419\n"
     ]
    }
   ],
   "source": [
    "modelo_rf_op(com)"
   ]
  },
  {
   "cell_type": "markdown",
   "metadata": {},
   "source": [
    "### Otras pruebas sobre los datos:"
   ]
  },
  {
   "cell_type": "markdown",
   "metadata": {},
   "source": [
    "### Probando los parametros optimos obtenido variando las variables (añadiendo n_paq_std) acc = 0.99 ##"
   ]
  },
  {
   "cell_type": "code",
   "execution_count": null,
   "metadata": {},
   "outputs": [],
   "source": []
  },
  {
   "cell_type": "code",
   "execution_count": 39,
   "metadata": {},
   "outputs": [],
   "source": [
    "rf2 = RandomForestClassifier(n_estimators=95, min_samples_split = 10, min_samples_leaf = 4, max_features = 'auto', bootstrap = True,max_depth=None, random_state=0)"
   ]
  },
  {
   "cell_type": "code",
   "execution_count": 52,
   "metadata": {},
   "outputs": [
    {
     "name": "stdout",
     "output_type": "stream",
     "text": [
      "Index(['puerto_destino', 'n_paq_std', 'n_paquetes', 'Length',\n",
      "       'puerto_caliente'],\n",
      "      dtype='object')\n"
     ]
    }
   ],
   "source": [
    "# x = ['puerto_destino','escaner','n_paquetes','puerto_caliente','Length']\n",
    "# x = ['len_mean','len_std', 'len_min', 'len_max','puerto_destino','n_paq_mean','n_paq_std','n_paq_min','n_paq_max','n_paquetes','Length','puerto_caliente']\n",
    "# x = ['len_mean','len_std', 'len_min', 'len_max','puerto_destino','n_paquetes','Length','puerto_caliente']\n",
    "# x = ['puerto_destino','n_paq_mean','n_paq_std','n_paq_min','n_paq_max','n_paquetes','Length','puerto_caliente']\n",
    "# x = ['puerto_destino','n_paq_mean','n_paq_std','n_paq_min','n_paquetes','Length','puerto_caliente']\n",
    "x = ['puerto_destino','n_paq_std','n_paquetes','Length','puerto_caliente']\n",
    "X=com\n",
    "X_train, X_test, y_train, y_test = train_test_split(X[x], X['ataque'], test_size=0.3, random_state=42)\n",
    "print(X_train.columns)\n",
    "\n",
    "numerical = X_train.select_dtypes(exclude=[\"category\",'object']).columns\n",
    "categorical = X_train.select_dtypes(include=[\"object\"]).columns\n",
    "t = [('cat', OneHotEncoder(), categorical), ('num', StandardScaler(), numerical)]\n",
    "transformer = ColumnTransformer(transformers=t)\n",
    "X_train_transformed = transformer.fit_transform(X_train)\n",
    "#     print(X_test)\n",
    "X_test_transformed = transformer.transform(X_test)"
   ]
  },
  {
   "cell_type": "code",
   "execution_count": 53,
   "metadata": {},
   "outputs": [
    {
     "data": {
      "text/plain": [
       "RandomForestClassifier(min_samples_leaf=4, min_samples_split=10,\n",
       "                       n_estimators=95, random_state=0)"
      ]
     },
     "execution_count": 53,
     "metadata": {},
     "output_type": "execute_result"
    }
   ],
   "source": [
    "rf2.fit(X_train_transformed, y_train)"
   ]
  },
  {
   "cell_type": "code",
   "execution_count": 54,
   "metadata": {},
   "outputs": [],
   "source": [
    "y_pred = rf2.predict(X_test_transformed)"
   ]
  },
  {
   "cell_type": "code",
   "execution_count": 55,
   "metadata": {},
   "outputs": [
    {
     "name": "stdout",
     "output_type": "stream",
     "text": [
      "Accuracy of the model is : 0.9998638759066837\n",
      "Recall of the model is : 0.9998638759066837\n",
      "Precision of the model is : 0.9998638759066837\n",
      "F1 score of the model is : 0.999815679308965\n"
     ]
    }
   ],
   "source": [
    "precision = precision_score(y_test,y_pred,average='micro')\n",
    "recall = recall_score(y_test,y_pred,average='micro')\n",
    "accuracy = accuracy_score(y_test,y_pred)\n",
    "f1 = f1_score(y_test,y_pred,average='macro')\n",
    "print(\"Accuracy of the model is :\" ,accuracy)\n",
    "print(\"Recall of the model is :\" ,recall)\n",
    "print(\"Precision of the model is :\" ,precision)\n",
    "print(\"F1 score of the model is :\" ,f1)"
   ]
  },
  {
   "cell_type": "markdown",
   "metadata": {},
   "source": [
    "### Correlacion entre todas las variables ###"
   ]
  },
  {
   "cell_type": "code",
   "execution_count": 71,
   "metadata": {},
   "outputs": [],
   "source": [
    "from string import ascii_letters\n",
    "import numpy as np\n",
    "import pandas as pd\n",
    "import seaborn as sns\n",
    "import matplotlib.pyplot as plt\n",
    "def corrheat_triangular(df):\n",
    "    sns.set(style=\"white\")\n",
    "    \n",
    "    corr = df.corr()\n",
    "    # Generate a mask for the upper triangle\n",
    "    mask = np.triu(np.ones_like(corr, dtype=np.bool))\n",
    "\n",
    "    # Set up the matplotlib figure\n",
    "    f, ax = plt.subplots(figsize=(10, 8))\n",
    "\n",
    "    # Generate a custom diverging colormap\n",
    "    cmap = sns.diverging_palette(220, 10, as_cmap=True)\n",
    "\n",
    "    # Draw the heatmap with the mask and correct aspect ratio\n",
    "    sns.heatmap(corr, mask=mask, cmap=cmap,annot=True, vmin=-1, vmax=1, center=0,\n",
    "                square=True, linewidths=.5, cbar_kws={\"shrink\": .5})"
   ]
  },
  {
   "cell_type": "code",
   "execution_count": 72,
   "metadata": {},
   "outputs": [
    {
     "data": {
      "image/png": "[encoded data removed]",
      "text/plain": [
       "<Figure size 720x576 with 2 Axes>"
      ]
     },
     "metadata": {},
     "output_type": "display_data"
    }
   ],
   "source": [
    "corrheat_triangular(com)"
   ]
  },
  {
   "cell_type": "code",
   "execution_count": null,
   "metadata": {},
   "outputs": [],
   "source": []
  },
  {
   "cell_type": "markdown",
   "metadata": {},
   "source": [
    "## Eliminamos len_mean y len_std, acc = 1 ###"
   ]
  },
  {
   "cell_type": "code",
   "execution_count": 102,
   "metadata": {},
   "outputs": [],
   "source": [
    "def modelo_rf_param_optimos(X,x):\n",
    "    print(X.columns)\n",
    "#     x = ['puerto_destino','escaner','len_mean','len_std', 'len_min', 'len_max','n_paq_mean','n_paq_std','n_paq_min','n_paq_max','n_paquetes','Length','puerto_caliente']\n",
    "#     x = ['puerto_destino','escaner','len_mean','len_std', 'len_min', 'len_max','n_paq_mean','n_paq_std','n_paq_min','n_paq_max','n_paquetes','puerto_caliente','Length']\n",
    "#     x = ['puerto_destino','escaner','n_paquetes','puerto_caliente','Length']\n",
    "    X_train, X_test, y_train, y_test = train_test_split(X[x], X['ataque'], test_size=0.3, random_state=42)\n",
    "    \n",
    "    numerical = X_train.select_dtypes(exclude=[\"category\",'object']).columns\n",
    "    categorical = X_train.select_dtypes(include=[\"category\",'object']).columns\n",
    "#     print(numerical,'numerical')\n",
    "#     print(categorical,'categorical')\n",
    "    t = [('cat', OneHotEncoder(), categorical), ('num', StandardScaler(), numerical)]\n",
    "    transformer = ColumnTransformer(transformers=t)\n",
    "    X_train_transformed = transformer.fit_transform(X_train)\n",
    "#     print(X_test)\n",
    "    X_test_transformed = transformer.transform(X_test)\n",
    "    rf = RandomForestClassifier(n_estimators=95, min_samples_split = 10, min_samples_leaf = 4, max_features = 'auto', bootstrap = True,max_depth=None, random_state=0)\n",
    "    \n",
    "    rf.fit(X_train_transformed, y_train)\n",
    "    y_pred = rf.predict(X_test_transformed)\n",
    "#     score = accuracy_score( y_pred,y_test)\n",
    "#     plt.scatter(fitted_labels, y_test)\n",
    "    \n",
    "    precision = precision_score(y_test,y_pred,average='micro')\n",
    "    recall = recall_score(y_test,y_pred,average='micro')\n",
    "    accuracy = accuracy_score(y_test,y_pred)\n",
    "    f1 = f1_score(y_test,y_pred,average='macro')\n",
    "    print(\"Accuracy of the model is :\" ,accuracy)\n",
    "    print(\"Recall of the model is :\" ,recall)\n",
    "    print(\"Precision of the model is :\" ,precision)\n",
    "    print(\"F1 score of the model is :\" ,f1)\n",
    "    \n",
    "    "
   ]
  },
  {
   "cell_type": "code",
   "execution_count": 103,
   "metadata": {},
   "outputs": [
    {
     "name": "stdout",
     "output_type": "stream",
     "text": [
      "Index(['escaner', 'len_mean', 'len_std', 'len_min', 'len_max',\n",
      "       'puerto_destino', 'Protocol', 'Source', 'Destination', 'n_paq_mean',\n",
      "       'n_paq_std', 'n_paq_min', 'n_paq_max', 'n_paquetes', 'Length',\n",
      "       'puerto_caliente', 'ataque', 'source', 'destination'],\n",
      "      dtype='object')\n",
      "Accuracy of the model is : 1.0\n",
      "Recall of the model is : 1.0\n",
      "Precision of the model is : 1.0\n",
      "F1 score of the model is : 1.0\n"
     ]
    }
   ],
   "source": [
    "x = ['puerto_destino','escaner', 'len_min', 'len_max','n_paq_mean','n_paq_std','n_paq_min','n_paq_max','n_paquetes','Length','puerto_caliente']\n",
    "modelo_rf_param_optimos(com,x)"
   ]
  },
  {
   "cell_type": "code",
   "execution_count": 84,
   "metadata": {},
   "outputs": [
    {
     "name": "stderr",
     "output_type": "stream",
     "text": [
      "C:\\Users\\34653\\Anaconda3\\lib\\site-packages\\sklearn\\utils\\deprecation.py:143: FutureWarning: The sklearn.metrics.classification module is  deprecated in version 0.22 and will be removed in version 0.24. The corresponding classes / functions should instead be imported from sklearn.metrics. Anything that cannot be imported from sklearn.metrics is now part of the private API.\n",
      "  warnings.warn(message, FutureWarning)\n"
     ]
    }
   ],
   "source": [
    "from yellowbrick.model_selection import LearningCurve"
   ]
  },
  {
   "cell_type": "code",
   "execution_count": null,
   "metadata": {},
   "outputs": [],
   "source": []
  },
  {
   "cell_type": "code",
   "execution_count": 89,
   "metadata": {},
   "outputs": [
    {
     "name": "stdout",
     "output_type": "stream",
     "text": [
      "['puerto_destino', 'escaner', 'len_min', 'len_max', 'n_paq_mean', 'n_paq_std', 'n_paq_min', 'n_paq_max', 'n_paquetes', 'Length', 'puerto_caliente']\n"
     ]
    }
   ],
   "source": [
    "print(x)"
   ]
  },
  {
   "cell_type": "code",
   "execution_count": 90,
   "metadata": {},
   "outputs": [
    {
     "name": "stderr",
     "output_type": "stream",
     "text": [
      "C:\\Users\\34653\\Anaconda3\\lib\\site-packages\\sklearn\\base.py:213: FutureWarning: From version 0.24, get_params will raise an AttributeError if a parameter cannot be retrieved as an instance attribute. Previously it would return None.\n",
      "  FutureWarning)\n"
     ]
    },
    {
     "data": {
      "image/png": "[encoded data removed]",
      "text/plain": [
       "<Figure size 576x396 with 1 Axes>"
      ]
     },
     "metadata": {},
     "output_type": "display_data"
    }
   ],
   "source": [
    "leaning_curve(com,x)"
   ]
  },
  {
   "cell_type": "markdown",
   "metadata": {},
   "source": [
    "### Cálculo de hiperparámetros optimos para las variables elegidas (quitando len_mean y len_std) ###"
   ]
  },
  {
   "cell_type": "code",
   "execution_count": 95,
   "metadata": {},
   "outputs": [],
   "source": [
    "X=com\n",
    "x = ['puerto_destino','escaner', 'len_min', 'len_max','n_paq_mean','n_paq_std','n_paq_min','n_paq_max','n_paquetes','Length','puerto_caliente']\n",
    "X_train, X_test, y_train, y_test = train_test_split(X[x], X['ataque'], test_size=0.3, random_state=42)\n",
    "\n",
    "numerical = X_train.select_dtypes(exclude=[\"category\",'object']).columns\n",
    "categorical = X_train.select_dtypes(include=[\"object\"]).columns\n",
    "t = [('cat', OneHotEncoder(), categorical), ('num', StandardScaler(), numerical)]\n",
    "transformer = ColumnTransformer(transformers=t)\n",
    "X_train_transformed = transformer.fit_transform(X_train)\n",
    "#     print(X_test)\n",
    "X_test_transformed = transformer.transform(X_test)"
   ]
  },
  {
   "cell_type": "code",
   "execution_count": 104,
   "metadata": {},
   "outputs": [],
   "source": [
    "rf = RandomForestClassifier()\n",
    "#     rf.fit(X_train_transformed, y_train)\n",
    "#     fitted_labels = rf.predict(X_test_transformed)\n",
    "#     score = accuracy_score( fitted_labels,y_test)\n",
    "#     print('max_depth = ',i,' score:', score)\n",
    "#     plt.scatter(fitted_labels, y_test)\n",
    "# Number of trees in random forest\n",
    "# n_estimators=95, min_samples_split = 10, min_samples_leaf = 4, max_features = 'auto', bootstrap = True,max_depth=None\n",
    "# n_estimators = [int(x) for x in np.linspace(start = 90, stop = 130, num = 5)]\n",
    "n_estimators =[90,95,100,110]\n",
    "# Number of features to consider at every split\n",
    "max_features = ['auto']\n",
    "# Maximum number of levels in tree\n",
    "# max_depth = [int(x) for x in np.linspace(2,5, num = 4)]\n",
    "max_depth = [2,3,4,5,None]\n",
    "# max_depth.append(None)\n",
    "# Minimum number of samples required to split a node\n",
    "min_samples_split = [5, 10]\n",
    "# Minimum number of samples required at each leaf node\n",
    "min_samples_leaf = [2, 4]\n",
    "# Method of selecting samples for training each tree\n",
    "bootstrap = [True, False]\n",
    "\n",
    "# Create the random grid\n",
    "param_grid = {'n_estimators': n_estimators,\n",
    "               'max_features': max_features,\n",
    "               'max_depth': max_depth,\n",
    "               'min_samples_split': min_samples_split,\n",
    "               'min_samples_leaf': min_samples_leaf,\n",
    "               'bootstrap': bootstrap}\n",
    "\n",
    "rf_search = RandomizedSearchCV(estimator=rf, param_distributions=param_grid, n_iter=100, random_state=42, cv=3, verbose=2, n_jobs=3)"
   ]
  },
  {
   "cell_type": "code",
   "execution_count": null,
   "metadata": {},
   "outputs": [
    {
     "name": "stdout",
     "output_type": "stream",
     "text": [
      "Fitting 3 folds for each of 100 candidates, totalling 300 fits\n"
     ]
    },
    {
     "name": "stderr",
     "output_type": "stream",
     "text": [
      "[Parallel(n_jobs=3)]: Using backend LokyBackend with 3 concurrent workers.\n",
      "[Parallel(n_jobs=3)]: Done  35 tasks      | elapsed:  5.1min\n"
     ]
    }
   ],
   "source": [
    "rf_search.fit(X_train_transformed, y_train)\n"
   ]
  },
  {
   "cell_type": "code",
   "execution_count": 99,
   "metadata": {},
   "outputs": [
    {
     "data": {
      "text/plain": [
       "RandomForestClassifier(max_depth=5, min_samples_leaf=2, min_samples_split=10)"
      ]
     },
     "execution_count": 99,
     "metadata": {},
     "output_type": "execute_result"
    }
   ],
   "source": [
    "rf_search.best_params_\n",
    "best_rf = rf_search.best_estimator_\n",
    "y_pred = rf_search.predict(X_test_transformed)\n",
    "rf_search.best_params_\n",
    "best_rf\n"
   ]
  },
  {
   "cell_type": "code",
   "execution_count": 101,
   "metadata": {},
   "outputs": [
    {
     "data": {
      "text/plain": [
       "{'n_estimators': 100,\n",
       " 'min_samples_split': 10,\n",
       " 'min_samples_leaf': 2,\n",
       " 'max_features': 'auto',\n",
       " 'max_depth': 5,\n",
       " 'bootstrap': True}"
      ]
     },
     "execution_count": 101,
     "metadata": {},
     "output_type": "execute_result"
    }
   ],
   "source": [
    "rf_search.best_params_"
   ]
  },
  {
   "cell_type": "code",
   "execution_count": 100,
   "metadata": {},
   "outputs": [
    {
     "name": "stdout",
     "output_type": "stream",
     "text": [
      "Accuracy of the model is : 0.9991832554401021\n",
      "Recall of the model is : 0.9991832554401021\n",
      "Precision of the model is : 0.9991832554401021\n",
      "F1 score of the model is : 0.9988951759138547\n"
     ]
    }
   ],
   "source": [
    "precision = precision_score(y_test,y_pred,average='micro')\n",
    "recall = recall_score(y_test,y_pred,average='micro')\n",
    "accuracy = accuracy_score(y_test,y_pred)\n",
    "f1 = f1_score(y_test,y_pred,average='macro')\n",
    "print(\"Accuracy of the model is :\" ,accuracy)\n",
    "print(\"Recall of the model is :\" ,recall)\n",
    "print(\"Precision of the model is :\" ,precision)\n",
    "print(\"F1 score of the model is :\" ,f1)"
   ]
  }
 ],
 "metadata": {
  "kernelspec": {
   "display_name": "Python 3",
   "language": "python",
   "name": "python3"
  },
  "language_info": {
   "codemirror_mode": {
    "name": "ipython",
    "version": 3
   },
   "file_extension": ".py",
   "mimetype": "text/x-python",
   "name": "python",
   "nbconvert_exporter": "python",
   "pygments_lexer": "ipython3",
   "version": "3.7.6"
  }
 },
 "nbformat": 4,
 "nbformat_minor": 4
}
